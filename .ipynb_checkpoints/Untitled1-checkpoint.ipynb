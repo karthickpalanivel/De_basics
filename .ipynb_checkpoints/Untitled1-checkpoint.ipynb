{
 "cells": [
  {
   "cell_type": "code",
   "execution_count": 1,
   "id": "8160aeb3-1191-4924-b4de-41daa740f581",
   "metadata": {},
   "outputs": [],
   "source": [
    "from pyspark.sql import SparkSession\n",
    "spark = SparkSession.builder.appName('practicethree').getOrCreate()"
   ]
  },
  {
   "cell_type": "code",
   "execution_count": 2,
   "id": "9efe617c-d568-4cf5-86f9-4ed29d6ba7d4",
   "metadata": {},
   "outputs": [
    {
     "name": "stdout",
     "output_type": "stream",
     "text": [
      "+-----+---+---+\n",
      "| name|age| id|\n",
      "+-----+---+---+\n",
      "|alpha| 10|  1|\n",
      "| beta| 11|  1|\n",
      "|gamma| 10|  2|\n",
      "+-----+---+---+\n",
      "\n"
     ]
    }
   ],
   "source": [
    "df_set=spark.read.csv('test1.csv',header=True,inferSchema=True)\n",
    "df_set.show()"
   ]
  },
  {
   "cell_type": "code",
   "execution_count": 4,
   "id": "35319c5f-15d6-4d8c-94dd-a746427a0c45",
   "metadata": {},
   "outputs": [],
   "source": [
    "###filter operations -> use the filter in-build method keyword "
   ]
  },
  {
   "cell_type": "code",
   "execution_count": 6,
   "id": "4cf1636b-19c1-466f-826d-7f3e2eb80c92",
   "metadata": {},
   "outputs": [
    {
     "name": "stdout",
     "output_type": "stream",
     "text": [
      "+-----+---+\n",
      "| name|age|\n",
      "+-----+---+\n",
      "|alpha| 10|\n",
      "|gamma| 10|\n",
      "+-----+---+\n",
      "\n"
     ]
    }
   ],
   "source": [
    "df_set.filter(\"age=10\").select('name','age').show()"
   ]
  },
  {
   "cell_type": "code",
   "execution_count": 7,
   "id": "31ec931f-2cc7-4c65-ba6b-3d0e7aedaab8",
   "metadata": {},
   "outputs": [],
   "source": [
    "# & -> and operation\n",
    "# | -> or operation\n",
    "# ~ -> inverse functions like NOT operators used in programming. "
   ]
  },
  {
   "cell_type": "code",
   "execution_count": null,
   "id": "7b639ea3-5cfb-4bcc-a120-f7e633fcf9d1",
   "metadata": {},
   "outputs": [],
   "source": []
  }
 ],
 "metadata": {
  "kernelspec": {
   "display_name": "Python 3 (ipykernel)",
   "language": "python",
   "name": "python3"
  },
  "language_info": {
   "codemirror_mode": {
    "name": "ipython",
    "version": 3
   },
   "file_extension": ".py",
   "mimetype": "text/x-python",
   "name": "python",
   "nbconvert_exporter": "python",
   "pygments_lexer": "ipython3",
   "version": "3.13.0"
  }
 },
 "nbformat": 4,
 "nbformat_minor": 5
}
