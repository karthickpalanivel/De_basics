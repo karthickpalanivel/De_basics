{
 "cells": [
  {
   "cell_type": "code",
   "execution_count": 1,
   "id": "73148184-914d-4540-b24f-e301d7609fde",
   "metadata": {},
   "outputs": [],
   "source": [
    "from pyspark.sql import SparkSession"
   ]
  },
  {
   "cell_type": "code",
   "execution_count": 2,
   "id": "accfc336-a556-4325-bd28-ec20adc11c78",
   "metadata": {},
   "outputs": [],
   "source": [
    "df_spark = SparkSession.builder.appName(\"aprilonenine\").getOrCreate()"
   ]
  },
  {
   "cell_type": "code",
   "execution_count": 3,
   "id": "b4c2c48e-f4e9-4d5e-89cb-d51ac32c7709",
   "metadata": {},
   "outputs": [
    {
     "data": {
      "text/html": [
       "\n",
       "            <div>\n",
       "                <p><b>SparkSession - in-memory</b></p>\n",
       "                \n",
       "        <div>\n",
       "            <p><b>SparkContext</b></p>\n",
       "\n",
       "            <p><a href=\"http://host.docker.internal:4040\">Spark UI</a></p>\n",
       "\n",
       "            <dl>\n",
       "              <dt>Version</dt>\n",
       "                <dd><code>v3.5.5</code></dd>\n",
       "              <dt>Master</dt>\n",
       "                <dd><code>local[*]</code></dd>\n",
       "              <dt>AppName</dt>\n",
       "                <dd><code>aprilonenine</code></dd>\n",
       "            </dl>\n",
       "        </div>\n",
       "        \n",
       "            </div>\n",
       "        "
      ],
      "text/plain": [
       "<pyspark.sql.session.SparkSession at 0x26da6dda270>"
      ]
     },
     "execution_count": 3,
     "metadata": {},
     "output_type": "execute_result"
    }
   ],
   "source": [
    "df_spark"
   ]
  },
  {
   "cell_type": "code",
   "execution_count": 4,
   "id": "8120aa45-52b6-4c5f-885b-f29d48db9027",
   "metadata": {},
   "outputs": [],
   "source": [
    "df_csv = df_spark.read.option('header','true').option('inferSchema','true').csv(\"./csvFiles/student.csv\")"
   ]
  },
  {
   "cell_type": "code",
   "execution_count": 5,
   "id": "a1a48fa2-f8ce-44f7-af77-3a1b134a2a5a",
   "metadata": {},
   "outputs": [],
   "source": [
    "df_aboveFive = df_csv.filter(df_csv['Study Satisfaction']>4)"
   ]
  },
  {
   "cell_type": "code",
   "execution_count": 6,
   "id": "b0bede60-a967-425e-8cf5-436ad158fc49",
   "metadata": {},
   "outputs": [
    {
     "name": "stdout",
     "output_type": "stream",
     "text": [
      "+---+------+---+---------+----------+-----------------+-------------+----+------------------+----------------+-------------------+--------------+----------+-------------------------------------+----------------+----------------+--------------------------------+----------+\n",
      "| id|Gender|Age|     City|Profession|Academic Pressure|Work Pressure|CGPA|Study Satisfaction|Job Satisfaction|     Sleep Duration|Dietary Habits|    Degree|Have you ever had suicidal thoughts ?|Work/Study Hours|Financial Stress|Family History of Mental Illness|Depression|\n",
      "+---+------+---+---------+----------+-----------------+-------------+----+------------------+----------------+-------------------+--------------+----------+-------------------------------------+----------------+----------------+--------------------------------+----------+\n",
      "|  8|Female| 24|Bangalore|   Student|                2|            0| 5.9|                 5|               0|        '5-6 hours'|      Moderate|       BSc|                                   No|               3|               2|                             Yes|         0|\n",
      "| 26|  Male| 31| Srinagar|   Student|                3|            0|7.03|                 5|               0|'Less than 5 hours'|       Healthy|        BA|                                   No|               9|               1|                             Yes|         0|\n",
      "|103|Female| 19|   Kalyan|   Student|                5|            0|5.64|                 5|               0|'Less than 5 hours'|      Moderate|'Class 12'|                                  Yes|               4|               5|                             Yes|         1|\n",
      "|176|Female| 20|   Mumbai|   Student|                5|            0|8.58|                 5|               0|        '7-8 hours'|      Moderate|'Class 12'|                                   No|               2|               2|                             Yes|         1|\n",
      "|186|  Male| 31|Ahmedabad|   Student|                2|            0|6.08|                 5|               0|        '7-8 hours'|      Moderate|       LLB|                                  Yes|               3|               3|                             Yes|         1|\n",
      "|222|  Male| 18|    Surat|   Student|                4|            0| 6.7|                 5|               0|'Less than 5 hours'|      Moderate|'Class 12'|                                  Yes|               5|               4|                             Yes|         1|\n",
      "|312|Female| 19|   Rajkot|   Student|                5|            0|6.99|                 5|               0|'More than 8 hours'|       Healthy|'Class 12'|                                  Yes|               0|               4|                             Yes|         1|\n",
      "|324|Female| 18| Vadodara|   Student|                3|            0| 5.7|                 5|               0|        '5-6 hours'|     Unhealthy|'Class 12'|                                  Yes|              11|               4|                              No|         1|\n",
      "|370|  Male| 31|   Nashik|   Student|                1|            0|6.79|                 5|               0|'More than 8 hours'|     Unhealthy|       MCA|                                  Yes|               0|               3|                             Yes|         0|\n",
      "|385|  Male| 21| Ludhiana|   Student|                2|            0|7.38|                 5|               0|'Less than 5 hours'|       Healthy|        MA|                                  Yes|               2|               5|                              No|         1|\n",
      "|420|  Male| 32|    Patna|   Student|                3|            0|9.11|                 5|               0|        '7-8 hours'|      Moderate|      MBBS|                                  Yes|               5|               5|                             Yes|         1|\n",
      "|425|Female| 25|   Kalyan|   Student|                3|            0|9.49|                 5|               0|        '7-8 hours'|       Healthy|       BHM|                                   No|               9|               2|                              No|         0|\n",
      "|484|Female| 24|Faridabad|   Student|                1|            0| 7.1|                 5|               0|'Less than 5 hours'|      Moderate|       LLM|                                  Yes|               6|               5|                              No|         1|\n",
      "|503|Female| 34|    Surat|   Student|                2|            0| 8.5|                 5|               0|'More than 8 hours'|     Unhealthy|       BSc|                                   No|               1|               2|                             Yes|         0|\n",
      "|541|  Male| 34|  Kolkata|   Student|                2|            0|7.51|                 5|               0|'Less than 5 hours'|      Moderate|       MSc|                                   No|               7|               1|                             Yes|         0|\n",
      "|587|Female| 33|    Delhi|   Student|                2|            0|5.51|                 5|               0|'Less than 5 hours'|     Unhealthy|       BSc|                                  Yes|              12|               1|                              No|         1|\n",
      "|595|Female| 18|    Delhi|   Student|                5|            0|9.79|                 5|               0|'Less than 5 hours'|     Unhealthy|'Class 12'|                                  Yes|              10|               5|                             Yes|         1|\n",
      "|695|  Male| 31|  Lucknow|   Student|                5|            0|9.87|                 5|               0|'Less than 5 hours'|     Unhealthy|       LLB|                                   No|              12|               2|                              No|         0|\n",
      "|712|  Male| 20| Vadodara|   Student|                3|            0|8.74|                 5|               0|'Less than 5 hours'|     Unhealthy|'Class 12'|                                  Yes|               6|               2|                              No|         1|\n",
      "|713|  Male| 18|    Surat|   Student|                1|            0|5.14|                 5|               0|'More than 8 hours'|      Moderate|'Class 12'|                                   No|              12|               2|                              No|         0|\n",
      "+---+------+---+---------+----------+-----------------+-------------+----+------------------+----------------+-------------------+--------------+----------+-------------------------------------+----------------+----------------+--------------------------------+----------+\n",
      "only showing top 20 rows\n",
      "\n"
     ]
    }
   ],
   "source": [
    "df_aboveFive.show()"
   ]
  },
  {
   "cell_type": "code",
   "execution_count": 7,
   "id": "740046c5-0cd3-4c5e-8008-f94ac4f0436c",
   "metadata": {},
   "outputs": [
    {
     "data": {
      "text/plain": [
       "4422"
      ]
     },
     "execution_count": 7,
     "metadata": {},
     "output_type": "execute_result"
    }
   ],
   "source": [
    "df_aboveFive.count()"
   ]
  },
  {
   "cell_type": "code",
   "execution_count": 8,
   "id": "14e72965-7ddf-413b-9f4c-79a48770702e",
   "metadata": {},
   "outputs": [],
   "source": [
    "df_reduced = df_aboveFive.coalesce(3)"
   ]
  },
  {
   "cell_type": "code",
   "execution_count": 9,
   "id": "252e00ef-ffdd-477a-8245-7c56f29a6fbf",
   "metadata": {},
   "outputs": [
    {
     "name": "stdout",
     "output_type": "stream",
     "text": [
      "+---+------+---+---------+----------+-----------------+-------------+----+------------------+----------------+-------------------+--------------+----------+-------------------------------------+----------------+----------------+--------------------------------+----------+\n",
      "| id|Gender|Age|     City|Profession|Academic Pressure|Work Pressure|CGPA|Study Satisfaction|Job Satisfaction|     Sleep Duration|Dietary Habits|    Degree|Have you ever had suicidal thoughts ?|Work/Study Hours|Financial Stress|Family History of Mental Illness|Depression|\n",
      "+---+------+---+---------+----------+-----------------+-------------+----+------------------+----------------+-------------------+--------------+----------+-------------------------------------+----------------+----------------+--------------------------------+----------+\n",
      "|  8|Female| 24|Bangalore|   Student|                2|            0| 5.9|                 5|               0|        '5-6 hours'|      Moderate|       BSc|                                   No|               3|               2|                             Yes|         0|\n",
      "| 26|  Male| 31| Srinagar|   Student|                3|            0|7.03|                 5|               0|'Less than 5 hours'|       Healthy|        BA|                                   No|               9|               1|                             Yes|         0|\n",
      "|103|Female| 19|   Kalyan|   Student|                5|            0|5.64|                 5|               0|'Less than 5 hours'|      Moderate|'Class 12'|                                  Yes|               4|               5|                             Yes|         1|\n",
      "|176|Female| 20|   Mumbai|   Student|                5|            0|8.58|                 5|               0|        '7-8 hours'|      Moderate|'Class 12'|                                   No|               2|               2|                             Yes|         1|\n",
      "|186|  Male| 31|Ahmedabad|   Student|                2|            0|6.08|                 5|               0|        '7-8 hours'|      Moderate|       LLB|                                  Yes|               3|               3|                             Yes|         1|\n",
      "|222|  Male| 18|    Surat|   Student|                4|            0| 6.7|                 5|               0|'Less than 5 hours'|      Moderate|'Class 12'|                                  Yes|               5|               4|                             Yes|         1|\n",
      "|312|Female| 19|   Rajkot|   Student|                5|            0|6.99|                 5|               0|'More than 8 hours'|       Healthy|'Class 12'|                                  Yes|               0|               4|                             Yes|         1|\n",
      "|324|Female| 18| Vadodara|   Student|                3|            0| 5.7|                 5|               0|        '5-6 hours'|     Unhealthy|'Class 12'|                                  Yes|              11|               4|                              No|         1|\n",
      "|370|  Male| 31|   Nashik|   Student|                1|            0|6.79|                 5|               0|'More than 8 hours'|     Unhealthy|       MCA|                                  Yes|               0|               3|                             Yes|         0|\n",
      "|385|  Male| 21| Ludhiana|   Student|                2|            0|7.38|                 5|               0|'Less than 5 hours'|       Healthy|        MA|                                  Yes|               2|               5|                              No|         1|\n",
      "|420|  Male| 32|    Patna|   Student|                3|            0|9.11|                 5|               0|        '7-8 hours'|      Moderate|      MBBS|                                  Yes|               5|               5|                             Yes|         1|\n",
      "|425|Female| 25|   Kalyan|   Student|                3|            0|9.49|                 5|               0|        '7-8 hours'|       Healthy|       BHM|                                   No|               9|               2|                              No|         0|\n",
      "|484|Female| 24|Faridabad|   Student|                1|            0| 7.1|                 5|               0|'Less than 5 hours'|      Moderate|       LLM|                                  Yes|               6|               5|                              No|         1|\n",
      "|503|Female| 34|    Surat|   Student|                2|            0| 8.5|                 5|               0|'More than 8 hours'|     Unhealthy|       BSc|                                   No|               1|               2|                             Yes|         0|\n",
      "|541|  Male| 34|  Kolkata|   Student|                2|            0|7.51|                 5|               0|'Less than 5 hours'|      Moderate|       MSc|                                   No|               7|               1|                             Yes|         0|\n",
      "|587|Female| 33|    Delhi|   Student|                2|            0|5.51|                 5|               0|'Less than 5 hours'|     Unhealthy|       BSc|                                  Yes|              12|               1|                              No|         1|\n",
      "|595|Female| 18|    Delhi|   Student|                5|            0|9.79|                 5|               0|'Less than 5 hours'|     Unhealthy|'Class 12'|                                  Yes|              10|               5|                             Yes|         1|\n",
      "|695|  Male| 31|  Lucknow|   Student|                5|            0|9.87|                 5|               0|'Less than 5 hours'|     Unhealthy|       LLB|                                   No|              12|               2|                              No|         0|\n",
      "|712|  Male| 20| Vadodara|   Student|                3|            0|8.74|                 5|               0|'Less than 5 hours'|     Unhealthy|'Class 12'|                                  Yes|               6|               2|                              No|         1|\n",
      "|713|  Male| 18|    Surat|   Student|                1|            0|5.14|                 5|               0|'More than 8 hours'|      Moderate|'Class 12'|                                   No|              12|               2|                              No|         0|\n",
      "+---+------+---+---------+----------+-----------------+-------------+----+------------------+----------------+-------------------+--------------+----------+-------------------------------------+----------------+----------------+--------------------------------+----------+\n",
      "only showing top 20 rows\n",
      "\n"
     ]
    }
   ],
   "source": [
    "df_reduced.show()"
   ]
  },
  {
   "cell_type": "code",
   "execution_count": null,
   "id": "1960eed1-5f40-49cc-8667-e22eecbff309",
   "metadata": {},
   "outputs": [],
   "source": [
    "df_reduced.count()"
   ]
  },
  {
   "cell_type": "code",
   "execution_count": 10,
   "id": "52435cd0-c01f-4299-a848-d6fafc26b269",
   "metadata": {},
   "outputs": [],
   "source": [
    "df_reduced.write.option(\"header\",True).csv(\"./csvFiles/spark_output\")"
   ]
  },
  {
   "cell_type": "code",
   "execution_count": 12,
   "id": "9fb33e47-da5f-4dfc-8959-e503b63d0589",
   "metadata": {},
   "outputs": [],
   "source": [
    "from pyspark.sql import functions as F"
   ]
  },
  {
   "cell_type": "code",
   "execution_count": 15,
   "id": "d3c89815-89b6-4731-a21d-32b9b89892ee",
   "metadata": {},
   "outputs": [
    {
     "name": "stdout",
     "output_type": "stream",
     "text": [
      "+---+------+---+---------+----------+-----------------+-------------+----+------------------+----------------+-------------------+--------------+----------+-------------------------------------+----------------+----------------+--------------------------------+----------+\n",
      "| id|Gender|Age|     City|Profession|Academic Pressure|Work Pressure|CGPA|Study Satisfaction|Job Satisfaction|     Sleep Duration|Dietary Habits|    Degree|Have you ever had suicidal thoughts ?|Work/Study Hours|Financial Stress|Family History of Mental Illness|Depression|\n",
      "+---+------+---+---------+----------+-----------------+-------------+----+------------------+----------------+-------------------+--------------+----------+-------------------------------------+----------------+----------------+--------------------------------+----------+\n",
      "|  8|Female| 24|Bangalore|   Student|                2|            0| 5.9|                 5|               0|        '5-6 hours'|      Moderate|       BSc|                                   No|               3|               2|                             Yes|         0|\n",
      "| 26|  Male| 31| Srinagar|   Student|                3|            0|7.03|                 5|               0|'Less than 5 hours'|       Healthy|        BA|                                   No|               9|               1|                             Yes|         0|\n",
      "|103|Female| 19|   Kalyan|   Student|                5|            0|5.64|                 5|               0|'Less than 5 hours'|      Moderate|'Class 12'|                                  Yes|               4|               5|                             Yes|         1|\n",
      "|176|Female| 20|   Mumbai|   Student|                5|            0|8.58|                 5|               0|        '7-8 hours'|      Moderate|'Class 12'|                                   No|               2|               2|                             Yes|         1|\n",
      "|186|  Male| 31|Ahmedabad|   Student|                2|            0|6.08|                 5|               0|        '7-8 hours'|      Moderate|       LLB|                                  Yes|               3|               3|                             Yes|         1|\n",
      "|222|  Male| 18|    Surat|   Student|                4|            0| 6.7|                 5|               0|'Less than 5 hours'|      Moderate|'Class 12'|                                  Yes|               5|               4|                             Yes|         1|\n",
      "|312|Female| 19|   Rajkot|   Student|                5|            0|6.99|                 5|               0|'More than 8 hours'|       Healthy|'Class 12'|                                  Yes|               0|               4|                             Yes|         1|\n",
      "|324|Female| 18| Vadodara|   Student|                3|            0| 5.7|                 5|               0|        '5-6 hours'|     Unhealthy|'Class 12'|                                  Yes|              11|               4|                              No|         1|\n",
      "|370|  Male| 31|   Nashik|   Student|                1|            0|6.79|                 5|               0|'More than 8 hours'|     Unhealthy|       MCA|                                  Yes|               0|               3|                             Yes|         0|\n",
      "|385|  Male| 21| Ludhiana|   Student|                2|            0|7.38|                 5|               0|'Less than 5 hours'|       Healthy|        MA|                                  Yes|               2|               5|                              No|         1|\n",
      "|420|  Male| 32|    Patna|   Student|                3|            0|9.11|                 5|               0|        '7-8 hours'|      Moderate|      MBBS|                                  Yes|               5|               5|                             Yes|         1|\n",
      "|425|Female| 25|   Kalyan|   Student|                3|            0|9.49|                 5|               0|        '7-8 hours'|       Healthy|       BHM|                                   No|               9|               2|                              No|         0|\n",
      "|484|Female| 24|Faridabad|   Student|                1|            0| 7.1|                 5|               0|'Less than 5 hours'|      Moderate|       LLM|                                  Yes|               6|               5|                              No|         1|\n",
      "|503|Female| 34|    Surat|   Student|                2|            0| 8.5|                 5|               0|'More than 8 hours'|     Unhealthy|       BSc|                                   No|               1|               2|                             Yes|         0|\n",
      "|541|  Male| 34|  Kolkata|   Student|                2|            0|7.51|                 5|               0|'Less than 5 hours'|      Moderate|       MSc|                                   No|               7|               1|                             Yes|         0|\n",
      "|587|Female| 33|    Delhi|   Student|                2|            0|5.51|                 5|               0|'Less than 5 hours'|     Unhealthy|       BSc|                                  Yes|              12|               1|                              No|         1|\n",
      "|595|Female| 18|    Delhi|   Student|                5|            0|9.79|                 5|               0|'Less than 5 hours'|     Unhealthy|'Class 12'|                                  Yes|              10|               5|                             Yes|         1|\n",
      "|695|  Male| 31|  Lucknow|   Student|                5|            0|9.87|                 5|               0|'Less than 5 hours'|     Unhealthy|       LLB|                                   No|              12|               2|                              No|         0|\n",
      "|712|  Male| 20| Vadodara|   Student|                3|            0|8.74|                 5|               0|'Less than 5 hours'|     Unhealthy|'Class 12'|                                  Yes|               6|               2|                              No|         1|\n",
      "|713|  Male| 18|    Surat|   Student|                1|            0|5.14|                 5|               0|'More than 8 hours'|      Moderate|'Class 12'|                                   No|              12|               2|                              No|         0|\n",
      "+---+------+---+---------+----------+-----------------+-------------+----+------------------+----------------+-------------------+--------------+----------+-------------------------------------+----------------+----------------+--------------------------------+----------+\n",
      "only showing top 20 rows\n",
      "\n"
     ]
    }
   ],
   "source": [
    "df_reduced.filter(F.col('City').isNotNull()).show()"
   ]
  },
  {
   "cell_type": "code",
   "execution_count": 22,
   "id": "2b6922e2-eebc-40f1-9191-7a039de85f2c",
   "metadata": {},
   "outputs": [
    {
     "name": "stdout",
     "output_type": "stream",
     "text": [
      "+----+------+---+-------------+----------+-----------------+-------------+----+------------------+----------------+-------------------+--------------+----------+-------------------------------------+----------------+----------------+--------------------------------+----------+----------+\n",
      "|id  |Gender|Age|City         |Profession|Academic Pressure|Work Pressure|CGPA|Study Satisfaction|Job Satisfaction|Sleep Duration     |Dietary Habits|Degree    |Have you ever had suicidal thoughts ?|Work/Study Hours|Financial Stress|Family History of Mental Illness|Depression|row_number|\n",
      "+----+------+---+-------------+----------+-----------------+-------------+----+------------------+----------------+-------------------+--------------+----------+-------------------------------------+----------------+----------------+--------------------------------+----------+----------+\n",
      "|8   |Female|24 |Bangalore    |Student   |2                |0            |5.9 |5                 |0               |'5-6 hours'        |Moderate      |BSc       |No                                   |3               |2               |Yes                             |0         |1         |\n",
      "|26  |Male  |31 |Srinagar     |Student   |3                |0            |7.03|5                 |0               |'Less than 5 hours'|Healthy       |BA        |No                                   |9               |1               |Yes                             |0         |2         |\n",
      "|370 |Male  |31 |Nashik       |Student   |1                |0            |6.79|5                 |0               |'More than 8 hours'|Unhealthy     |MCA       |Yes                                  |0               |3               |Yes                             |0         |3         |\n",
      "|425 |Female|25 |Kalyan       |Student   |3                |0            |9.49|5                 |0               |'7-8 hours'        |Healthy       |BHM       |No                                   |9               |2               |No                              |0         |4         |\n",
      "|503 |Female|34 |Surat        |Student   |2                |0            |8.5 |5                 |0               |'More than 8 hours'|Unhealthy     |BSc       |No                                   |1               |2               |Yes                             |0         |5         |\n",
      "|541 |Male  |34 |Kolkata      |Student   |2                |0            |7.51|5                 |0               |'Less than 5 hours'|Moderate      |MSc       |No                                   |7               |1               |Yes                             |0         |6         |\n",
      "|695 |Male  |31 |Lucknow      |Student   |5                |0            |9.87|5                 |0               |'Less than 5 hours'|Unhealthy     |LLB       |No                                   |12              |2               |No                              |0         |7         |\n",
      "|713 |Male  |18 |Surat        |Student   |1                |0            |5.14|5                 |0               |'More than 8 hours'|Moderate      |'Class 12'|No                                   |12              |2               |No                              |0         |8         |\n",
      "|749 |Male  |26 |Rajkot       |Student   |2                |0            |6.19|5                 |0               |'5-6 hours'        |Healthy       |B.Arch    |Yes                                  |12              |3               |Yes                             |0         |9         |\n",
      "|777 |Male  |30 |Surat        |Student   |1                |0            |5.65|5                 |0               |'7-8 hours'        |Unhealthy     |M.Ed      |Yes                                  |12              |4               |Yes                             |0         |10        |\n",
      "|823 |Male  |19 |Visakhapatnam|Student   |3                |0            |6.61|5                 |0               |'7-8 hours'        |Moderate      |'Class 12'|No                                   |12              |1               |Yes                             |0         |11        |\n",
      "|875 |Male  |31 |Faridabad    |Student   |4                |0            |8.38|5                 |0               |'Less than 5 hours'|Moderate      |LLB       |No                                   |12              |2               |No                              |0         |12        |\n",
      "|882 |Female|29 |Pune         |Student   |1                |0            |9.96|5                 |0               |'Less than 5 hours'|Healthy       |LLM       |No                                   |6               |4               |Yes                             |0         |13        |\n",
      "|907 |Female|18 |Vadodara     |Student   |1                |0            |5.12|5                 |0               |'7-8 hours'        |Healthy       |'Class 12'|Yes                                  |7               |4               |Yes                             |0         |14        |\n",
      "|923 |Male  |30 |Bhopal       |Student   |4                |0            |8.35|5                 |0               |'7-8 hours'        |Unhealthy     |'Class 12'|No                                   |11              |2               |Yes                             |0         |15        |\n",
      "|926 |Male  |33 |Srinagar     |Student   |3                |0            |7.07|5                 |0               |'5-6 hours'        |Moderate      |PhD       |No                                   |7               |1               |Yes                             |0         |16        |\n",
      "|1022|Female|18 |Ahmedabad    |Student   |3                |0            |6.16|5                 |0               |'7-8 hours'        |Moderate      |'Class 12'|Yes                                  |5               |4               |Yes                             |0         |17        |\n",
      "|1055|Male  |18 |Srinagar     |Student   |1                |0            |6.21|5                 |0               |'More than 8 hours'|Moderate      |'Class 12'|No                                   |6               |4               |Yes                             |0         |18        |\n",
      "|1131|Female|33 |Vadodara     |Student   |1                |0            |9.72|5                 |0               |'Less than 5 hours'|Moderate      |BHM       |No                                   |4               |5               |Yes                             |0         |19        |\n",
      "|1165|Male  |34 |Kanpur       |Student   |2                |0            |7.68|5                 |0               |'7-8 hours'        |Moderate      |'Class 12'|No                                   |5               |1               |No                              |0         |20        |\n",
      "+----+------+---+-------------+----------+-----------------+-------------+----+------------------+----------------+-------------------+--------------+----------+-------------------------------------+----------------+----------------+--------------------------------+----------+----------+\n",
      "only showing top 20 rows\n",
      "\n"
     ]
    }
   ],
   "source": [
    "from pyspark.sql.window import Window\n",
    "windowSpec = Window.partitionBy(\"depression\").orderBy(\"Study Satisfaction\")\n",
    "df_reduced.withColumn(\"row_number\",row_number().over(windowSpec)).show(truncate=False)"
   ]
  },
  {
   "cell_type": "code",
   "execution_count": null,
   "id": "edd00fa4",
   "metadata": {},
   "outputs": [],
   "source": []
  }
 ],
 "metadata": {
  "kernelspec": {
   "display_name": "Python 3 (ipykernel)",
   "language": "python",
   "name": "python3"
  },
  "language_info": {
   "codemirror_mode": {
    "name": "ipython",
    "version": 3
   },
   "file_extension": ".py",
   "mimetype": "text/x-python",
   "name": "python",
   "nbconvert_exporter": "python",
   "pygments_lexer": "ipython3",
   "version": "3.13.0"
  }
 },
 "nbformat": 4,
 "nbformat_minor": 5
}
