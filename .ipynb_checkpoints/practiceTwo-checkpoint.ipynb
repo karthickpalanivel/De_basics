{
 "cells": [
  {
   "cell_type": "code",
   "execution_count": 1,
   "id": "91713357-55fe-48db-973e-08d61c05c23a",
   "metadata": {},
   "outputs": [],
   "source": [
    "import pyspark"
   ]
  },
  {
   "cell_type": "code",
   "execution_count": 2,
   "id": "bf220aa8-2ec3-4b75-be34-42b600e611fd",
   "metadata": {},
   "outputs": [],
   "source": [
    "import pandas as pd"
   ]
  },
  {
   "cell_type": "code",
   "execution_count": 3,
   "id": "8282a147-c247-4e3f-881a-c8f54b96b823",
   "metadata": {},
   "outputs": [
    {
     "data": {
      "text/html": [
       "<div>\n",
       "<style scoped>\n",
       "    .dataframe tbody tr th:only-of-type {\n",
       "        vertical-align: middle;\n",
       "    }\n",
       "\n",
       "    .dataframe tbody tr th {\n",
       "        vertical-align: top;\n",
       "    }\n",
       "\n",
       "    .dataframe thead th {\n",
       "        text-align: right;\n",
       "    }\n",
       "</style>\n",
       "<table border=\"1\" class=\"dataframe\">\n",
       "  <thead>\n",
       "    <tr style=\"text-align: right;\">\n",
       "      <th></th>\n",
       "      <th>name</th>\n",
       "      <th>age</th>\n",
       "      <th>experience</th>\n",
       "      <th>salary</th>\n",
       "    </tr>\n",
       "  </thead>\n",
       "  <tbody>\n",
       "    <tr>\n",
       "      <th>0</th>\n",
       "      <td>kart</td>\n",
       "      <td>10.0</td>\n",
       "      <td>5.0</td>\n",
       "      <td>10000.0</td>\n",
       "    </tr>\n",
       "    <tr>\n",
       "      <th>1</th>\n",
       "      <td>tech</td>\n",
       "      <td>11.0</td>\n",
       "      <td>3.0</td>\n",
       "      <td>NaN</td>\n",
       "    </tr>\n",
       "    <tr>\n",
       "      <th>2</th>\n",
       "      <td>manoj</td>\n",
       "      <td>12.0</td>\n",
       "      <td>4.0</td>\n",
       "      <td>10000.0</td>\n",
       "    </tr>\n",
       "    <tr>\n",
       "      <th>3</th>\n",
       "      <td>kishore</td>\n",
       "      <td>20.0</td>\n",
       "      <td>NaN</td>\n",
       "      <td>5000.0</td>\n",
       "    </tr>\n",
       "    <tr>\n",
       "      <th>4</th>\n",
       "      <td>sambu</td>\n",
       "      <td>21.0</td>\n",
       "      <td>20.0</td>\n",
       "      <td>25000.0</td>\n",
       "    </tr>\n",
       "    <tr>\n",
       "      <th>5</th>\n",
       "      <td>pambu</td>\n",
       "      <td>NaN</td>\n",
       "      <td>2.0</td>\n",
       "      <td>50000.0</td>\n",
       "    </tr>\n",
       "  </tbody>\n",
       "</table>\n",
       "</div>"
      ],
      "text/plain": [
       "      name   age  experience   salary\n",
       "0     kart  10.0         5.0  10000.0\n",
       "1     tech  11.0         3.0      NaN\n",
       "2    manoj  12.0         4.0  10000.0\n",
       "3  kishore  20.0         NaN   5000.0\n",
       "4    sambu  21.0        20.0  25000.0\n",
       "5    pambu   NaN         2.0  50000.0"
      ]
     },
     "execution_count": 3,
     "metadata": {},
     "output_type": "execute_result"
    }
   ],
   "source": [
    "pd.read_csv('Book1.csv')"
   ]
  },
  {
   "cell_type": "code",
   "execution_count": 4,
   "id": "54b7a10a-5654-4455-9a4f-7a8f6fe3a710",
   "metadata": {},
   "outputs": [],
   "source": [
    "from pyspark.sql import SparkSession"
   ]
  },
  {
   "cell_type": "code",
   "execution_count": 5,
   "id": "68bcc8b5-9350-49ed-b7ab-7d0505c50bd6",
   "metadata": {},
   "outputs": [],
   "source": [
    "spark = SparkSession.builder.appName('practiceTwo').getOrCreate()"
   ]
  },
  {
   "cell_type": "code",
   "execution_count": 6,
   "id": "7f78d034-dff6-4c55-a0fa-9a83ef1ead54",
   "metadata": {},
   "outputs": [],
   "source": [
    "df_two = spark.read.csv('Book1.csv',header=True,inferSchema=True)"
   ]
  },
  {
   "cell_type": "code",
   "execution_count": 7,
   "id": "3a362fa9-ea88-4cb2-8958-8a59c0932c88",
   "metadata": {},
   "outputs": [
    {
     "name": "stdout",
     "output_type": "stream",
     "text": [
      "+-------+----+----------+------+\n",
      "|   name| age|experience|salary|\n",
      "+-------+----+----------+------+\n",
      "|   kart|  10|         5| 10000|\n",
      "|   tech|  11|         3|  NULL|\n",
      "|  manoj|  12|         4| 10000|\n",
      "|kishore|  20|      NULL|  5000|\n",
      "|  sambu|  21|        20| 25000|\n",
      "|  pambu|NULL|         2| 50000|\n",
      "+-------+----+----------+------+\n",
      "\n"
     ]
    }
   ],
   "source": [
    "df_two.show()"
   ]
  },
  {
   "cell_type": "code",
   "execution_count": 8,
   "id": "77b2a469-2ede-4ff7-9089-6b5ff01a65a8",
   "metadata": {},
   "outputs": [
    {
     "data": {
      "text/plain": [
       "pyspark.sql.dataframe.DataFrame"
      ]
     },
     "execution_count": 8,
     "metadata": {},
     "output_type": "execute_result"
    }
   ],
   "source": [
    "type(df_two)"
   ]
  },
  {
   "cell_type": "code",
   "execution_count": 11,
   "id": "a76bb516-f241-4d1e-8af0-dae8b9dd1525",
   "metadata": {},
   "outputs": [],
   "source": [
    "# df_two.drop('name').show()"
   ]
  },
  {
   "cell_type": "code",
   "execution_count": 10,
   "id": "9b348f38-49a8-4b3d-acc0-21ca81d63890",
   "metadata": {},
   "outputs": [
    {
     "name": "stdout",
     "output_type": "stream",
     "text": [
      "+-------+----+----------+------+\n",
      "|   name| age|experience|salary|\n",
      "+-------+----+----------+------+\n",
      "|   kart|  10|         5| 10000|\n",
      "|   tech|  11|         3|  NULL|\n",
      "|  manoj|  12|         4| 10000|\n",
      "|kishore|  20|      NULL|  5000|\n",
      "|  sambu|  21|        20| 25000|\n",
      "|  pambu|NULL|         2| 50000|\n",
      "+-------+----+----------+------+\n",
      "\n"
     ]
    }
   ],
   "source": [
    "df_two.show()"
   ]
  },
  {
   "cell_type": "code",
   "execution_count": 12,
   "id": "4abc3a7a-9f66-42d7-8bc2-065a2fc73c82",
   "metadata": {},
   "outputs": [
    {
     "name": "stdout",
     "output_type": "stream",
     "text": [
      "+-----+---+----------+------+\n",
      "| name|age|experience|salary|\n",
      "+-----+---+----------+------+\n",
      "| kart| 10|         5| 10000|\n",
      "|manoj| 12|         4| 10000|\n",
      "|sambu| 21|        20| 25000|\n",
      "+-----+---+----------+------+\n",
      "\n"
     ]
    }
   ],
   "source": [
    "df_two.na.drop().show()"
   ]
  },
  {
   "cell_type": "code",
   "execution_count": 15,
   "id": "923c3840-be5e-45f1-868e-98aab46bf3ec",
   "metadata": {},
   "outputs": [
    {
     "name": "stdout",
     "output_type": "stream",
     "text": [
      "+-----+---+----------+------+\n",
      "| name|age|experience|salary|\n",
      "+-----+---+----------+------+\n",
      "| kart| 10|         5| 10000|\n",
      "|manoj| 12|         4| 10000|\n",
      "|sambu| 21|        20| 25000|\n",
      "+-----+---+----------+------+\n",
      "\n"
     ]
    }
   ],
   "source": [
    "df_two.na.drop(how='any').show()"
   ]
  },
  {
   "cell_type": "code",
   "execution_count": 18,
   "id": "6685a246-b868-4ee9-9b96-84d7ddace173",
   "metadata": {},
   "outputs": [
    {
     "name": "stdout",
     "output_type": "stream",
     "text": [
      "+-------+----+----------+------+\n",
      "|   name| age|experience|salary|\n",
      "+-------+----+----------+------+\n",
      "|   kart|  10|         5| 10000|\n",
      "|   tech|  11|         3|  NULL|\n",
      "|  manoj|  12|         4| 10000|\n",
      "|kishore|  20|      NULL|  5000|\n",
      "|  sambu|  21|        20| 25000|\n",
      "|  pambu|NULL|         2| 50000|\n",
      "+-------+----+----------+------+\n",
      "\n"
     ]
    }
   ],
   "source": [
    "##threshold - select based on non-null value in the row\n",
    "df_two.na.drop(how='any',thresh=2).show()"
   ]
  },
  {
   "cell_type": "code",
   "execution_count": 19,
   "id": "d2b26aaa-aa54-427c-890b-c40555705497",
   "metadata": {},
   "outputs": [
    {
     "name": "stdout",
     "output_type": "stream",
     "text": [
      "+-------+---+----------+------+\n",
      "|   name|age|experience|salary|\n",
      "+-------+---+----------+------+\n",
      "|   kart| 10|         5| 10000|\n",
      "|   tech| 11|         3|  NULL|\n",
      "|  manoj| 12|         4| 10000|\n",
      "|kishore| 20|      NULL|  5000|\n",
      "|  sambu| 21|        20| 25000|\n",
      "+-------+---+----------+------+\n",
      "\n"
     ]
    }
   ],
   "source": [
    "df_two.na.drop(how=\"any\",subset=['Age']).show()"
   ]
  },
  {
   "cell_type": "code",
   "execution_count": 27,
   "id": "8c7ad610-1de8-4622-86d2-7e91c65c0e2f",
   "metadata": {},
   "outputs": [
    {
     "name": "stdout",
     "output_type": "stream",
     "text": [
      "+-------+---+----------+------+\n",
      "|   name|age|experience|salary|\n",
      "+-------+---+----------+------+\n",
      "|   kart| 10|         5| 10000|\n",
      "|   tech| 11|         3|  NULL|\n",
      "|  manoj| 12|         4| 10000|\n",
      "|kishore| 20|      NULL|  5000|\n",
      "|  sambu| 21|        20| 25000|\n",
      "|  pambu|100|         2| 50000|\n",
      "+-------+---+----------+------+\n",
      "\n"
     ]
    }
   ],
   "source": [
    "##filling the missing values.. \n",
    "#use the fill parameter that takes two parameters\n",
    "#One is replace value, columns\n",
    "\n",
    "df_two.na.fill(100,['age']).show()"
   ]
  },
  {
   "cell_type": "code",
   "execution_count": 33,
   "id": "780dfc56-697a-49a9-8389-733b4f377d27",
   "metadata": {},
   "outputs": [],
   "source": [
    "#imputer functions\n",
    "\n",
    "from pyspark.ml.feature import Imputer\n",
    "\n",
    "imputer = Imputer(\n",
    "    inputCols=['age','experience','salary'],\n",
    "    outputCols=[\"{}_new\".format(c) for c in ['age','experience','salary']]\n",
    ").setStrategy('mean')\n",
    "    \n",
    "    "
   ]
  },
  {
   "cell_type": "code",
   "execution_count": 35,
   "id": "3fb441bf-e4fc-4dea-9352-90d907781fd6",
   "metadata": {},
   "outputs": [
    {
     "name": "stdout",
     "output_type": "stream",
     "text": [
      "+-------+----+----------+------+-----------+------------------+--------------+\n",
      "|   name| age|experience|salary|age_imputed|experience_imputed|salary_imputed|\n",
      "+-------+----+----------+------+-----------+------------------+--------------+\n",
      "|   kart|  10|         5| 10000|         10|                 5|         10000|\n",
      "|   tech|  11|         3|  NULL|         11|                 3|         20000|\n",
      "|  manoj|  12|         4| 10000|         12|                 4|         10000|\n",
      "|kishore|  20|      NULL|  5000|         20|                 6|          5000|\n",
      "|  sambu|  21|        20| 25000|         21|                20|         25000|\n",
      "|  pambu|NULL|         2| 50000|         14|                 2|         50000|\n",
      "+-------+----+----------+------+-----------+------------------+--------------+\n",
      "\n"
     ]
    }
   ],
   "source": [
    "#tranforming the imputers to df\n",
    "imputer.fit(df_two).transform(df_two).show()"
   ]
  },
  {
   "cell_type": "code",
   "execution_count": 36,
   "id": "7a9670a6-25f3-41f6-aeb5-b65d65bafa34",
   "metadata": {},
   "outputs": [],
   "source": [
    "#filter operations\n",
    "#&, |,==\n",
    "#~"
   ]
  },
  {
   "cell_type": "code",
   "execution_count": null,
   "id": "979703d9-306c-4b7c-b3e5-5774247d7742",
   "metadata": {},
   "outputs": [],
   "source": []
  }
 ],
 "metadata": {
  "kernelspec": {
   "display_name": "Python 3 (ipykernel)",
   "language": "python",
   "name": "python3"
  },
  "language_info": {
   "codemirror_mode": {
    "name": "ipython",
    "version": 3
   },
   "file_extension": ".py",
   "mimetype": "text/x-python",
   "name": "python",
   "nbconvert_exporter": "python",
   "pygments_lexer": "ipython3",
   "version": "3.13.0"
  }
 },
 "nbformat": 4,
 "nbformat_minor": 5
}
