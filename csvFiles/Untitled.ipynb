{
 "cells": [
  {
   "cell_type": "code",
   "execution_count": 1,
   "id": "eeedc7e4-fb24-4689-81b7-4ca12d1e3d1d",
   "metadata": {},
   "outputs": [],
   "source": [
    "from pyspark.sql import SparkSession"
   ]
  },
  {
   "cell_type": "code",
   "execution_count": 2,
   "id": "581ad34d-f27b-4d53-b4da-2a7fd193d7bd",
   "metadata": {},
   "outputs": [],
   "source": [
    "spark=SparkSession.builder.appName('Dataframe').getOrCreate()"
   ]
  },
  {
   "cell_type": "code",
   "execution_count": 3,
   "id": "ca08ae0d-d196-4aea-9812-a6f7c1233e8d",
   "metadata": {},
   "outputs": [
    {
     "data": {
      "text/html": [
       "\n",
       "            <div>\n",
       "                <p><b>SparkSession - in-memory</b></p>\n",
       "                \n",
       "        <div>\n",
       "            <p><b>SparkContext</b></p>\n",
       "\n",
       "            <p><a href=\"http://LAPTOP-LAANG0BH:4041\">Spark UI</a></p>\n",
       "\n",
       "            <dl>\n",
       "              <dt>Version</dt>\n",
       "                <dd><code>v3.5.5</code></dd>\n",
       "              <dt>Master</dt>\n",
       "                <dd><code>local[*]</code></dd>\n",
       "              <dt>AppName</dt>\n",
       "                <dd><code>Dataframe</code></dd>\n",
       "            </dl>\n",
       "        </div>\n",
       "        \n",
       "            </div>\n",
       "        "
      ],
      "text/plain": [
       "<pyspark.sql.session.SparkSession at 0x1ab2d30a270>"
      ]
     },
     "execution_count": 3,
     "metadata": {},
     "output_type": "execute_result"
    }
   ],
   "source": [
    "spark"
   ]
  },
  {
   "cell_type": "code",
   "execution_count": 13,
   "id": "08e8e173-1d9e-4559-a14b-4f0dd7157ced",
   "metadata": {},
   "outputs": [],
   "source": [
    "## read dataset\n",
    "df_dataset = spark.read.option('header','true').csv('test1.csv',inferSchema=True)"
   ]
  },
  {
   "cell_type": "code",
   "execution_count": 14,
   "id": "037f439f-c6db-435f-b3b0-f79539d6466e",
   "metadata": {},
   "outputs": [
    {
     "name": "stdout",
     "output_type": "stream",
     "text": [
      "root\n",
      " |-- name: string (nullable = true)\n",
      " |-- age: integer (nullable = true)\n",
      " |-- id: integer (nullable = true)\n",
      "\n"
     ]
    }
   ],
   "source": [
    "df_dataset.printSchema()"
   ]
  },
  {
   "cell_type": "code",
   "execution_count": 15,
   "id": "8ffd4329-4d03-49fc-ac1d-45e505b24a88",
   "metadata": {},
   "outputs": [
    {
     "name": "stdout",
     "output_type": "stream",
     "text": [
      "+-----+---+---+\n",
      "| name|age| id|\n",
      "+-----+---+---+\n",
      "|alpha| 10|  1|\n",
      "| beta| 11|  1|\n",
      "|gamma| 10|  2|\n",
      "+-----+---+---+\n",
      "\n"
     ]
    }
   ],
   "source": [
    "df_dataset.show()"
   ]
  },
  {
   "cell_type": "code",
   "execution_count": 68,
   "id": "eb8a6a31-01a3-4517-95d2-fe09b01bd7e2",
   "metadata": {},
   "outputs": [],
   "source": [
    "df_spark=spark.read.csv('./csvFiles/test1.csv',header=True,inferSchema=True)"
   ]
  },
  {
   "cell_type": "code",
   "execution_count": 69,
   "id": "da243118-6628-4a58-8137-2f55573a4059",
   "metadata": {},
   "outputs": [
    {
     "data": {
      "text/plain": [
       "pyspark.sql.dataframe.DataFrame"
      ]
     },
     "execution_count": 69,
     "metadata": {},
     "output_type": "execute_result"
    }
   ],
   "source": [
    "type(df_spark)\n",
    "## data frame is kind of data structure in which you can perform some actions."
   ]
  },
  {
   "cell_type": "code",
   "execution_count": 70,
   "id": "6ee53282-507d-4c40-bc6f-e54fc092bfeb",
   "metadata": {},
   "outputs": [
    {
     "data": {
      "text/plain": [
       "['name', 'age', 'id']"
      ]
     },
     "execution_count": 70,
     "metadata": {},
     "output_type": "execute_result"
    }
   ],
   "source": [
    "df_spark.columns"
   ]
  },
  {
   "cell_type": "code",
   "execution_count": 71,
   "id": "6de698dd-8dbd-4afc-b915-5e35c73a728b",
   "metadata": {},
   "outputs": [
    {
     "data": {
      "text/plain": [
       "pyspark.sql.dataframe.DataFrame"
      ]
     },
     "execution_count": 71,
     "metadata": {},
     "output_type": "execute_result"
    }
   ],
   "source": [
    "type(df_spark.select('name'))"
   ]
  },
  {
   "cell_type": "code",
   "execution_count": 72,
   "id": "bdf19eae-a920-41c6-9363-5ccffe029607",
   "metadata": {},
   "outputs": [],
   "source": [
    "# df_spark.select(['name','age'])"
   ]
  },
  {
   "cell_type": "code",
   "execution_count": 73,
   "id": "cc2e31af-b390-4a7a-9c8d-a1b34ee1a4eb",
   "metadata": {},
   "outputs": [],
   "source": [
    "# df_spark['name']"
   ]
  },
  {
   "cell_type": "code",
   "execution_count": 74,
   "id": "6bab825c-5b6b-4b99-ac19-00007c67d45e",
   "metadata": {},
   "outputs": [
    {
     "data": {
      "text/plain": [
       "[('name', 'string'), ('age', 'int'), ('id', 'int')]"
      ]
     },
     "execution_count": 74,
     "metadata": {},
     "output_type": "execute_result"
    }
   ],
   "source": [
    "df_spark.dtypes"
   ]
  },
  {
   "cell_type": "code",
   "execution_count": 76,
   "id": "19193557-f13b-4130-8d90-6e1a9c8a57c8",
   "metadata": {},
   "outputs": [
    {
     "data": {
      "text/plain": [
       "DataFrame[summary: string, name: string, age: string, id: string, upper: string]"
      ]
     },
     "execution_count": 76,
     "metadata": {},
     "output_type": "execute_result"
    }
   ],
   "source": [
    "df_spark.describe()"
   ]
  },
  {
   "cell_type": "code",
   "execution_count": 75,
   "id": "2eda7d12-f6e4-4744-a250-d664cb567019",
   "metadata": {},
   "outputs": [],
   "source": [
    "## adding columns\n",
    "from pyspark.sql import functions as F\n",
    "df_spark=df_spark.withColumn('upper',F.upper(F.col('name')))"
   ]
  },
  {
   "cell_type": "code",
   "execution_count": 77,
   "id": "fdcfee03-a08f-4246-a4a2-1caa2f784be4",
   "metadata": {},
   "outputs": [],
   "source": [
    "df_spark = df_spark.drop('upper')"
   ]
  },
  {
   "cell_type": "code",
   "execution_count": 78,
   "id": "367b1063-dc66-4f8e-a2e3-456a316d172b",
   "metadata": {},
   "outputs": [
    {
     "name": "stdout",
     "output_type": "stream",
     "text": [
      "+-----+---+---+\n",
      "| name|age| id|\n",
      "+-----+---+---+\n",
      "|alpha| 10|  1|\n",
      "| beta| 11|  1|\n",
      "|gamma| 10|  2|\n",
      "+-----+---+---+\n",
      "\n"
     ]
    }
   ],
   "source": [
    "df_spark.show()"
   ]
  },
  {
   "cell_type": "code",
   "execution_count": null,
   "id": "b9845fc3-1f78-4272-9271-63a85a348318",
   "metadata": {},
   "outputs": [],
   "source": []
  },
  {
   "cell_type": "code",
   "execution_count": null,
   "id": "791b3c39",
   "metadata": {},
   "outputs": [],
   "source": []
  },
  {
   "cell_type": "code",
   "execution_count": null,
   "id": "a6ba01bf",
   "metadata": {},
   "outputs": [],
   "source": []
  },
  {
   "cell_type": "code",
   "execution_count": null,
   "id": "c7bfb289",
   "metadata": {},
   "outputs": [],
   "source": []
  },
  {
   "cell_type": "code",
   "execution_count": null,
   "id": "3c0291bc",
   "metadata": {},
   "outputs": [],
   "source": []
  },
  {
   "cell_type": "code",
   "execution_count": null,
   "id": "9052b139",
   "metadata": {},
   "outputs": [],
   "source": []
  }
 ],
 "metadata": {
  "kernelspec": {
   "display_name": "Python 3 (ipykernel)",
   "language": "python",
   "name": "python3"
  },
  "language_info": {
   "codemirror_mode": {
    "name": "ipython",
    "version": 3
   },
   "file_extension": ".py",
   "mimetype": "text/x-python",
   "name": "python",
   "nbconvert_exporter": "python",
   "pygments_lexer": "ipython3",
   "version": "3.13.0"
  }
 },
 "nbformat": 4,
 "nbformat_minor": 5
}
