{
 "cells": [
  {
   "cell_type": "code",
   "execution_count": 12,
   "id": "8160aeb3-1191-4924-b4de-41daa740f581",
   "metadata": {},
   "outputs": [],
   "source": [
    "from pyspark.sql import SparkSession\n",
    "spark = SparkSession.builder.appName('practicethree').getOrCreate()"
   ]
  },
  {
   "cell_type": "code",
   "execution_count": 20,
   "id": "9efe617c-d568-4cf5-86f9-4ed29d6ba7d4",
   "metadata": {},
   "outputs": [
    {
     "name": "stdout",
     "output_type": "stream",
     "text": [
      "+-----+---+---+\n",
      "| name|age| id|\n",
      "+-----+---+---+\n",
      "|alpha| 10|  1|\n",
      "| beta| 11|  1|\n",
      "|gamma| 10|  2|\n",
      "+-----+---+---+\n",
      "\n"
     ]
    }
   ],
   "source": [
    "df_set=spark.read.csv('./csvFiles/test1.csv',header=True,inferSchema=True)\n",
    "df_set.show()"
   ]
  },
  {
   "cell_type": "code",
   "execution_count": 14,
   "id": "35319c5f-15d6-4d8c-94dd-a746427a0c45",
   "metadata": {},
   "outputs": [],
   "source": [
    "###filter operations -> use the filter in-build method keyword "
   ]
  },
  {
   "cell_type": "code",
   "execution_count": 15,
   "id": "4cf1636b-19c1-466f-826d-7f3e2eb80c92",
   "metadata": {},
   "outputs": [
    {
     "name": "stdout",
     "output_type": "stream",
     "text": [
      "+-----+---+\n",
      "| name|age|\n",
      "+-----+---+\n",
      "|alpha| 10|\n",
      "|gamma| 10|\n",
      "+-----+---+\n",
      "\n"
     ]
    }
   ],
   "source": [
    "df_set.filter(\"age=10\").select('name','age').show()"
   ]
  },
  {
   "cell_type": "code",
   "execution_count": 16,
   "id": "31ec931f-2cc7-4c65-ba6b-3d0e7aedaab8",
   "metadata": {},
   "outputs": [],
   "source": [
    "# & -> and operation\n",
    "# | -> or operation\n",
    "# ~ -> inverse functions like NOT operators used in programming. \n",
    "\n",
    "from pyspark.ml.feature import VectorAssembler as va"
   ]
  },
  {
   "cell_type": "code",
   "execution_count": 17,
   "id": "7b639ea3-5cfb-4bcc-a120-f7e633fcf9d1",
   "metadata": {},
   "outputs": [
    {
     "name": "stdout",
     "output_type": "stream",
     "text": [
      "+-----+---+---+\n",
      "| name|age| id|\n",
      "+-----+---+---+\n",
      "|alpha| 10|  1|\n",
      "| beta| 11|  1|\n",
      "|gamma| 10|  2|\n",
      "+-----+---+---+\n",
      "\n"
     ]
    }
   ],
   "source": [
    "df_set.show()"
   ]
  },
  {
   "cell_type": "code",
   "execution_count": 19,
   "id": "1d3b8bd4-ba7e-4b50-aa06-22533ff54c7e",
   "metadata": {},
   "outputs": [
    {
     "data": {
      "text/plain": [
       "['name', 'age', 'id']"
      ]
     },
     "execution_count": 19,
     "metadata": {},
     "output_type": "execute_result"
    }
   ],
   "source": [
    "df_set.columns"
   ]
  },
  {
   "cell_type": "code",
   "execution_count": 18,
   "id": "3669fc20-a2af-4416-9f4d-821a7f6df79b",
   "metadata": {},
   "outputs": [
    {
     "name": "stdout",
     "output_type": "stream",
     "text": [
      "+-----+---+---+\n",
      "| name|age| id|\n",
      "+-----+---+---+\n",
      "|alpha| 10|  1|\n",
      "| beta| 11|  1|\n",
      "|gamma| 10|  2|\n",
      "+-----+---+---+\n",
      "\n"
     ]
    }
   ],
   "source": [
    "df_set.show()"
   ]
  },
  {
   "cell_type": "code",
   "execution_count": 24,
   "id": "dae47793-a911-424f-805b-f9044116ca73",
   "metadata": {},
   "outputs": [],
   "source": [
    "fa=va(inputCols=['age','id'],outputCol=\"nameSet\")"
   ]
  },
  {
   "cell_type": "code",
   "execution_count": 25,
   "id": "8d1547db-2b78-4c0a-9844-2eaf999452f6",
   "metadata": {},
   "outputs": [
    {
     "name": "stdout",
     "output_type": "stream",
     "text": [
      "+-----+---+---+----------+\n",
      "| name|age| id|   nameSet|\n",
      "+-----+---+---+----------+\n",
      "|alpha| 10|  1|[10.0,1.0]|\n",
      "| beta| 11|  1|[11.0,1.0]|\n",
      "|gamma| 10|  2|[10.0,2.0]|\n",
      "+-----+---+---+----------+\n",
      "\n"
     ]
    }
   ],
   "source": [
    "output=fa.transform(df_set).show()"
   ]
  },
  {
   "cell_type": "code",
   "execution_count": null,
   "id": "fc585d7e-c704-46ac-beef-de4d52c0e4dd",
   "metadata": {},
   "outputs": [],
   "source": []
  }
 ],
 "metadata": {
  "kernelspec": {
   "display_name": "Python 3 (ipykernel)",
   "language": "python",
   "name": "python3"
  },
  "language_info": {
   "codemirror_mode": {
    "name": "ipython",
    "version": 3
   },
   "file_extension": ".py",
   "mimetype": "text/x-python",
   "name": "python",
   "nbconvert_exporter": "python",
   "pygments_lexer": "ipython3",
   "version": "3.13.0"
  }
 },
 "nbformat": 4,
 "nbformat_minor": 5
}
